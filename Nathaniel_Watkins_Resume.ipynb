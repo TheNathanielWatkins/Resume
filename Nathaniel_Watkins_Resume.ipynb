{
 "cells": [
  {
   "cell_type": "code",
   "execution_count": 1,
   "metadata": {},
   "outputs": [],
   "source": [
    "import Nathaniel_Watkins as the_right_choice                                                                              ## 657.464.4005\n",
    "theNW = the_right_choice                                                                                 ## theNathanielWatkins@gmail.com"
   ]
  },
  {
   "cell_type": "markdown",
   "metadata": {},
   "source": [
    "Due to my enthusiasm for technology and seeing the wonderful ways it can help people, I'm driven to contribute and become a part of developing the future. Because of its ability to transform just about every industry and increase efficiencies dramatically, Data Science/Machine Learning Engineering is an exciting path for me to pursue.\n",
    "\n",
    "I excelled in a career in Property Management and made the most of a bad situation after a financial setback forced me to leave UC Irvine prematurely. I used that opportunity to learn skills and develop habits that would prove useful in any career, but now I've seized the moment to execute a transition into a challenging career in Artificial Intelligence."
   ]
  },
  {
   "cell_type": "code",
   "execution_count": 2,
   "metadata": {
    "scrolled": false
   },
   "outputs": [],
   "source": [
    "theNW.display('Experience')                                                                            ## Prints my Work Experience below"
   ]
  },
  {
   "cell_type": "markdown",
   "metadata": {},
   "source": [
    "#### Student Mentor  |  Udacity - - - - - - - - - - - - - - - - - - - - - - - - - - - - - - - - - - - - - - - - - - - - - - - - - - - - - - - - - - - - - - - - - - - - - - - - - - - - - - - - - - - - - - - - - Nov 17 -  Present\n",
    "> Remote/Gig  |  Mentoring Students through the Introduction to Programming Nanodegree by:\n",
    "* Perform code reviews of student projects with constructive feedback\n",
    "* Send regular encouragement and check-ins to help students stay motivated\n",
    "* Advise when students are feeling lost or don't know where to begin, and help students troubleshoot and/or debug any issues they're facing\n",
    "\n",
    "#### Software Development Student & Home Renovations Project Manager  |  Self - - - - - - - - - - - - - - - - - - - - - - - - - - - - - - - - - - - - - - - - - - - - - - - - - July 16 - Present \n",
    "> Seattle, WA  |  Took a career break to:\n",
    "* Study Software Development fundamentals, then Statistics, Linear Algebra, Calculus; finally specializing in Machine Learning\n",
    "* Perform major renovations on my home including restoring wood, removing walls, adding closets, and more\n",
    "* Also, occasionally volunteer (e.g. Seattle Startup Week) or complete some contract IT work\n",
    "\n",
    "#### Assistant Property Manager (Office Manager/Bookkeeper)  |  Essex Property Trust - - - - - - - - - - - - - - - - - - - - - - - - - - - - - - - - - - - - - - - - - - - - - - Mar 14 -  July 16\n",
    "> Seattle, WA  |  Top West Coast Focused Real Estate Investment Trust:\n",
    "* Managed up to 7 people, onsite and semi-remote\n",
    "* Drove rent growth while maintaining minimal resident turnover and increasing resident satisfaction\n",
    "* Fostered trust between disparate departments and improved many processes/procedures\n",
    "* Consistently turned negative customer experiences into an ultimate positive by listening, applying creative solutions, and ensuring that they felt served\n",
    "\n",
    "#### Property Manager (Business Manager)  |  Western National Group - - - - - - - - - - - - - - - - - - - - - - - - - - - - - - - - - - - - - - - - - - - - - - - - - - - - - - - - - - - May 09 -  Feb 14\n",
    "> Orange County, CA  |  Premier property management company setting high standards to be a cut above:\n",
    "* Developed a strong reputation for customer service and mentoring new hires\n",
    "* Redirected the NOI trends from -5% to +2% budget variance reduced annual turnover from 71% to 29%, receiving industry awards"
   ]
  },
  {
   "cell_type": "code",
   "execution_count": 3,
   "metadata": {},
   "outputs": [],
   "source": [
    "theNW.display('Education')                                                                                  ## Prints my Education below"
   ]
  },
  {
   "cell_type": "markdown",
   "metadata": {},
   "source": [
    "#### Machine Learning Engineer Nanodegree  | Udacity - - - - - - - - - - - - - - - - - - - - - - - - - - - - - - - - - - - - - - - - - - - - Jan 18 - Current (anticipated graduation: June 18) \n",
    "Mastering Model Evaluation/Validation, Supervised Learning, Deep Learning, Unsupervised Learning, and Reinforcement Learning through hands-on learning\n",
    "\n",
    "#### Introduction to Programming Nanodegree  |  Udacity - - - - - - - - - - - - - - - - - - - - - - - - - - - - - - - - - - - - - - - - - - - - - - - - - - - - - - - - - - - - - - - - - - - - - Sept 16 - Jan 17 \n",
    "Started with learning web technologies then built a strong foundation for serious programming in Python and specialized in Data Analysis\n",
    "\n",
    "#### Mechanical Engineering  |  University of California, Irvine - - - - - - - - - - - - - - - - - - - - - - - - - - - - - - - - - - - - - - - - - - - - - - - - - - - - - - - - - - - - - - - - - - Fall 06 - Fall 07 \n",
    "46 Units towards a Bachelor’s of Science in Mechanical Engineering"
   ]
  },
  {
   "cell_type": "code",
   "execution_count": 4,
   "metadata": {},
   "outputs": [
    {
     "name": "stdout",
     "output_type": "stream",
     "text": [
      "Comfortable with: ['Python', 'Jupyter Notebooks', 'TensorFlow', 'Keras', 'scikit-learn', 'Anaconda', 'HTML & CSS']\n",
      "Familiar with: ['Git', 'JSON', 'SQL', 'C#', 'Javascript']\n"
     ]
    }
   ],
   "source": [
    "skill_list = theNW.skills()                                     ## Prints my programming language and toolkit Skills below based on level \n",
    "print(\"Comfortable with: {}\".format(skill_list.comfortable()))\n",
    "print(\"Familiar with: {}\".format(skill_list.familiar()))"
   ]
  },
  {
   "cell_type": "code",
   "execution_count": 5,
   "metadata": {},
   "outputs": [],
   "source": [
    "theNW.display('Projects')                                                                             ## Prints some of my Projects below"
   ]
  },
  {
   "cell_type": "markdown",
   "metadata": {},
   "source": [
    "#### Creating Customer Segments  |  Udacity - - - - - - - - - - - - - - - - - - - - - - - - - - - - - - - - - - - - - - - - - - - - - - - - - - - - - - - - - - - - - - - - - - - - - - - - - - - - - - - - - - - - - - Apr 18 \n",
    "* Used unsupervised learning techniques to see if any similarities exist between a distributor's customers, and how to best segment customers into distinct categories\n",
    "\n",
    "#### Dog Breed Classifier  |  Udacity - - - - - - - - - - - - - - - - - - - - - - - - - - - - - - - - - - - - - - - - - - - - - - - - - - - - - - - - - - - - - - - - - - - - - - - - - - - - - - - - - - - - - - - - - - - - - Apr 18 \n",
    "* Given an image of a dog, my CNN identifies an estimate of the canine’s breed, but if supplied with an image of a human, the code identifies the resembling dog breed\n",
    "\n",
    "#### Recycle Bits  |  Hackathon - - - - - - - - - - - - - - - - - - - - - - - - - - - - - - - - - - - - - - - - - - - - - - - - - - - - - - - - - - - - - - - - - - - - - - - - - - - - - - - - - - - - - - - - - - - - - - - - - Feb 18 \n",
    "* Earned 2nd place using Computer Vision to classify trash into distinct categories of Recyclable, Compostable or Refuse        \n",
    "* First implemented as a responsive web app for consumers, with a leaderboard system to encourage green behavior        \n",
    "* Also envisioned a business plan to create smart trash cans and automated industrial trash sorting"
   ]
  },
  {
   "cell_type": "markdown",
   "metadata": {},
   "source": [
    "<table style=\"width:100%; border:0\">\n",
    "<tbody>\n",
    "<tr>\n",
    "    <td style=\"text-align: left\">\n",
    "        <a href=\"https://github.com/TheNathanielWatkins/\">GitHub.com/TheNathanielWatkins</a>\n",
    "    </td>\n",
    "    <td style=\"text-align: center\">\n",
    "        <a href=\"https://twitter.com/theNathanielW\">@theNathanielW</a>\n",
    "    </td>\n",
    "    <td style=\"text-align: right\">\n",
    "        <a href=\"https://www.linkedin.com/in/thenathanielwatkins/\">LinkedIn.com/in/TheNathanielWatkins</a>\n",
    "    </td>\n",
    "</tr>\n",
    "</tbody>\n",
    "</table>"
   ]
  }
 ],
 "metadata": {
  "kernelspec": {
   "display_name": "Python 3",
   "language": "python",
   "name": "python3"
  },
  "language_info": {
   "codemirror_mode": {
    "name": "ipython",
    "version": 3
   },
   "file_extension": ".py",
   "mimetype": "text/x-python",
   "name": "python",
   "nbconvert_exporter": "python",
   "pygments_lexer": "ipython3",
   "version": "3.6.5"
  }
 },
 "nbformat": 4,
 "nbformat_minor": 2
}
