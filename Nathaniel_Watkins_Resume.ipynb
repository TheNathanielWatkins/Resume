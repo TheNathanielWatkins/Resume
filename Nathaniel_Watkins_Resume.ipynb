{
 "cells": [
  {
   "cell_type": "code",
   "execution_count": 1,
   "metadata": {},
   "outputs": [],
   "source": [
    "import Nathaniel_Watkins as the_right_choice                                                                         ## 657.464.4005\n",
    "theNW = the_right_choice                                                                            ## theNathanielWatkins@gmail.com"
   ]
  },
  {
   "cell_type": "markdown",
   "metadata": {},
   "source": [
    "I’m a dedicated manager turned Machine Learning Engineer with an enthusiasm for the wonderful ways technology can help people. After excelling in a Property Management career, where I learned skills and developed habits that would prove useful in any career trajectory, I yearned for a more fulfilling challenge better aligned with my engineering background. Now I've seized the moment to execute a transition into an exciting career in Artificial Intelligence/Data Science, becoming an expert in Data Analysis, Python, TensorFlow, Keras and Scikit-Learn."
   ]
  },
  {
   "cell_type": "code",
   "execution_count": 2,
   "metadata": {
    "scrolled": false
   },
   "outputs": [],
   "source": [
    "theNW.display('Experience')                                                                       ## Prints my Work Experience below"
   ]
  },
  {
   "cell_type": "markdown",
   "metadata": {},
   "source": [
    "#### Student Mentor  |  Udacity - - - - - - - - - - - - - - - - - - - - - - - - - - - - - - - - - - - - - - - - - - - - - - - - - - - - - - - - - - - - - - - - - - - - - - - - - - - - - - - - - - - - - - Nov 17 -  Present\n",
    "> Remote/Gig  |  Mentoring Students through the Introduction to Programming Nanodegree by:\n",
    "* Perform code reviews of student projects with constructive feedback\n",
    "* Send regular encouragement and check-ins to help students stay motivated\n",
    "* Advise when students are feeling lost or don't know where to begin, and help students troubleshoot and/or debug any issues they're facing\n",
    "\n",
    "#### Software Development Student & Home Renovations Project Manager  |  Self - - - - - - - - - - - - - - - - - - - - - - - - - - - - - - - - - - - - - - - - - - - - - - July 16 - Present \n",
    "> Seattle, WA  |  Took a career break to:\n",
    "* Study Software Development fundamentals, then Statistics, Linear Algebra, Calculus; finally specializing in Machine Learning\n",
    "* Perform major renovations on my home including restoring wood, removing walls, adding closets, and more\n",
    "* Also, occasionally volunteer (e.g. Seattle Startup Week) or complete some contract IT work\n",
    "\n",
    "#### Assistant Property Manager (Office Manager/Bookkeeper)  |  Essex Property Trust - - - - - - - - - - - - - - - - - - - - - - - - - - - - - - - - - - - - - - - - - - - Mar 14 -  July 16\n",
    "> Seattle, WA  |  Top West Coast Focused Real Estate Investment Trust:\n",
    "* Managed up to 7 people, onsite and semi-remote\n",
    "* Drove rent growth while maintaining minimal resident turnover and increasing customer satisfaction\n",
    "* Fostered trust between disparate departments and improved many processes/procedures\n",
    "* Consistently turned negative customer experiences into an ultimate positive by listening, applying creative solutions, and ensuring that they felt served\n",
    "\n",
    "#### Property Manager (Business Manager)  |  Western National Group - - - - - - - - - - - - - - - - - - - - - - - - - - - - - - - - - - - - - - - - - - - - - - - - - - - - - - - - May 09 -  Feb 14\n",
    "> Orange County, CA  |  Premier property management company setting high standards to be a cut above:\n",
    "* Developed a strong reputation for customer service and mentoring new hires\n",
    "* Redirected the NOI trends from -5% to +2% budget variance, and reduced annual turnover from 71% to 29%, receiving industry awards"
   ]
  },
  {
   "cell_type": "code",
   "execution_count": 3,
   "metadata": {},
   "outputs": [],
   "source": [
    "theNW.display('Education')                                                                              ## Prints my Education below"
   ]
  },
  {
   "cell_type": "markdown",
   "metadata": {},
   "source": [
    "#### Machine Learning Engineer Nanodegree  | Udacity - - - - - - - - - - - - - - - - - - - - - - - - - - - - - - - - - - - - - - - - - - - - - - - - - - - - - - - - - - - - - - - - - - - Jan 18 - Sept 18 \n",
    "Mastering Model Evaluation/Validation, Supervised Learning, Deep Learning, Unsupervised Learning, and Reinforcement Learning through hands-on projects\n",
    "\n",
    "#### Machine Learning with Tensorflow on Google Cloud Platform  | Coursera  - - - - - - - - - - - - - - - - - - - - - - - - - - - - - - - - - - - - - - - - - - - - - - - - - - July 18 - Aug 18 \n",
    "5 course specialization by Google Cloud on how Google creates scalable and deployable Machine Learning models\n",
    "\n",
    "#### Introduction to Programming Nanodegree  |  Udacity - - - - - - - - - - - - - - - - - - - - - - - - - - - - - - - - - - - - - - - - - - - - - - - - - - - - - - - - - - - - - - - - - - Sept 16 - Jan 17 \n",
    "Started with learning web technologies then built a strong foundation for serious programming in Python and specialized in Data Analysis\n",
    "\n",
    "#### Mechanical Engineering  |  University of California, Irvine - - - - - - - - - - - - - - - - - - - - - - - - - - - - - - - - - - - - - - - - - - - - - - - - - - - - - - - - - - - - - - - Fall 06 - Fall 07 \n",
    "46 Units towards a Bachelor’s of Science in Mechanical Engineering"
   ]
  },
  {
   "cell_type": "code",
   "execution_count": 4,
   "metadata": {},
   "outputs": [
    {
     "name": "stdout",
     "output_type": "stream",
     "text": [
      "Comfortable with: ['Python', 'Jupyter Notebooks', 'TensorFlow', 'Keras', 'scikit-learn', 'Anaconda', 'HTML & CSS']\n",
      "Familiar with: ['Git', 'JSON', 'SQL', 'C#', 'Javascript']\n"
     ]
    }
   ],
   "source": [
    "skill_list = theNW.skills()                                 ## Prints my programming language and toolkit Skills below based on level \n",
    "print(\"Comfortable with: {}\".format(skill_list.comfortable()))\n",
    "print(\"Familiar with: {}\".format(skill_list.familiar()))"
   ]
  },
  {
   "cell_type": "code",
   "execution_count": 5,
   "metadata": {},
   "outputs": [],
   "source": [
    "theNW.display('Projects')                                                                         ## Prints some of my Projects below"
   ]
  },
  {
   "cell_type": "markdown",
   "metadata": {},
   "source": [
    "#### NYC Taxi Fare Prediction - Capstone Project and Kaggle Competition  |  Udacity - - - - - - - - - - - - - - - - - - - - - - - - - - - - - - - - - - - - - - - - - - - - - - - - - - - - Sept 18 \n",
    "* Created a production-ready Wide and Deep TensorFlow regressor deployed in Google Cloud ML Engine and trained on a massive dataset\n",
    "* Placed within top third on leaderboard with 3.26 RMSE (less than 2 points away from the top score)\n",
    "\n",
    "#### Reinforcement Learning Quadcopter  |  Udacity - - - - - - - - - - - - - - - - - - - - - - - - - - - - - - - - - - - - - - - - - - - - - - - - - - - - - - - - - - - - - - - - - - - - - - - - - - - - - July 18 \n",
    "* Trained a quadcopter simulation to fly using a Deep Deterministic Policy Gradients (DDPG) Actor/Critic model\n",
    "\n",
    "#### Dog Breed Classifier  |  Udacity - - - - - - - - - - - - - - - - - - - - - - - - - - - - - - - - - - - - - - - - - - - - - - - - - - - - - - - - - - - - - - - - - - - - - - - - - - - - - - - - - - - - - - - - - - Apr 18 \n",
    "* Given an image of a dog, my CNN identifies an estimate of the canine’s breed, but if supplied with an image of a human, the code identifies the resembling dog breed\n",
    "\n",
    "#### Recycle Bits  |  Hackathon - - - - - - - - - - - - - - - - - - - - - - - - - - - - - - - - - - - - - - - - - - - - - - - - - - - - - - - - - - - - - - - - - - - - - - - - - - - - - - - - - - - - - - - - - - - - - - Feb 18 \n",
    "* Earned 2nd place using Computer Vision to classify trash into distinct categories of Recyclable, Compostable or Refuse       \n",
    "* First implemented as a responsive web app for consumers, with a leaderboard system to encourage green behavior        \n",
    "* Also envisioned a business plan to create smart trash cans and automated industrial trash sorting"
   ]
  },
  {
   "cell_type": "markdown",
   "metadata": {},
   "source": [
    "<table style=\"width:100%; border:0\">\n",
    "<tbody>\n",
    "<tr>\n",
    "    <td style=\"text-align: left\">\n",
    "        <a href=\"https://github.com/TheNathanielWatkins/\">GitHub.com/TheNathanielWatkins</a>\n",
    "    </td>\n",
    "    <td style=\"text-align: center\">\n",
    "        <a href=\"https://twitter.com/theNathanielW\">@theNathanielW</a>\n",
    "    </td>\n",
    "    <td style=\"text-align: right\">\n",
    "        <a href=\"https://www.linkedin.com/in/thenathanielwatkins/\">LinkedIn.com/in/TheNathanielWatkins</a>\n",
    "    </td>\n",
    "</tr>\n",
    "</tbody>\n",
    "</table>"
   ]
  }
 ],
 "metadata": {
  "kernelspec": {
   "display_name": "Python [default]",
   "language": "python",
   "name": "python3"
  },
  "language_info": {
   "codemirror_mode": {
    "name": "ipython",
    "version": 3
   },
   "file_extension": ".py",
   "mimetype": "text/x-python",
   "name": "python",
   "nbconvert_exporter": "python",
   "pygments_lexer": "ipython3",
   "version": "3.6.5"
  }
 },
 "nbformat": 4,
 "nbformat_minor": 2
}
